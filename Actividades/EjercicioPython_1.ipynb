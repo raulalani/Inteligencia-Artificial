{
  "nbformat": 4,
  "nbformat_minor": 0,
  "metadata": {
    "colab": {
      "provenance": []
    },
    "kernelspec": {
      "name": "python3",
      "display_name": "Python 3"
    },
    "language_info": {
      "name": "python"
    }
  },
  "cells": [
    {
      "cell_type": "markdown",
      "source": [
        "Actividad 2: Diseño de algoritmos en Phyton.\n",
        " Raúl Cristian Penilla Alanis 2014341 Hora clase: N4-N5-N6 Grupo:006"
      ],
      "metadata": {
        "id": "AstRPCCRZ0Vt"
      }
    },
    {
      "cell_type": "code",
      "source": [
        "nombre = input(\"¿Cuál es tu nombre?\")\n",
        "if nombre == \"Ana\" or nombre == \"Juan\" or nombre == \"Pedro\":\n",
        "    print(\"Hola\")\n",
        "else:\n",
        "    print(\"Hola\", nombre)"
      ],
      "metadata": {
        "colab": {
          "base_uri": "https://localhost:8080/"
        },
        "id": "TTO75ql4OtWE",
        "outputId": "900681cf-1823-4218-9517-e6b804f603b4"
      },
      "execution_count": 29,
      "outputs": [
        {
          "output_type": "stream",
          "name": "stdout",
          "text": [
            "¿Cuál es tu nombre? Raúl\n",
            "Hola  Raúl\n"
          ]
        }
      ]
    },
    {
      "cell_type": "code",
      "source": [
        "from collections import deque\n",
        "\n",
        "def invertir_lista():\n",
        "    # Pedir al usuario el número de elementos de la lista\n",
        "    n = int(input(\"¿Cuántos elementos quieres introducir en la lista? \"))\n",
        "\n",
        "    # Crear una lista vacía\n",
        "    lista = []\n",
        "\n",
        "    # Pedir al usuario los elementos de la lista\n",
        "    for i in range(n):\n",
        "        elemento = input(\"Introduce el elemento {}: \".format(i + 1))\n",
        "        lista.append(elemento)\n",
        "\n",
        "    # Invertir la lista\n",
        "    lista_invertida = deque(lista).reverse()\n",
        "\n",
        "    # Devolver la lista invertida\n",
        "    return lista_invertida\n",
        "\n",
        "# Obtener la lista invertida del usuario\n",
        "lista_invertida = invertir_lista()\n",
        "\n",
        "# Imprimir la lista invertida\n",
        "print(\"La lista invertida es:\", lista_invertida)\n"
      ],
      "metadata": {
        "colab": {
          "base_uri": "https://localhost:8080/"
        },
        "id": "_OVSrdgdXlW2",
        "outputId": "643a72d6-d31d-43de-84a8-417090c719b8"
      },
      "execution_count": 30,
      "outputs": [
        {
          "output_type": "stream",
          "name": "stdout",
          "text": [
            "¿Cuántos elementos quieres introducir en la lista? 5\n",
            "Introduce el elemento 1: 1\n",
            "Introduce el elemento 2: 2\n",
            "Introduce el elemento 3: 3\n",
            "Introduce el elemento 4: 4\n",
            "Introduce el elemento 5: 5\n",
            "La lista invertida es: None\n"
          ]
        }
      ]
    },
    {
      "cell_type": "code",
      "source": [
        "# Solicita la cantidad de números de Fibonacci a generar\n",
        "n = int(input(\"Introduzca la cantidad de números de Fibonacci que desea generar: \"))\n",
        "\n",
        "# Verifica si el usuario ingresó un valor válido\n",
        "if n <= 0:\n",
        "    print(\"La cantidad de números de Fibonacci a generar debe ser mayor que cero.\")\n",
        "else:\n",
        "    # Genera los números de Fibonacci\n",
        "    fib = [0, 1]\n",
        "    for i in range(2, n):\n",
        "        fib.append(fib[i-1] + fib[i-2])\n",
        "\n",
        "    # Muestra los números de Fibonacci generados\n",
        "    print(\"Los\", n, \"primeros números de Fibonacci son:\")\n",
        "    for num in fib:\n",
        "        print(num)\n"
      ],
      "metadata": {
        "colab": {
          "base_uri": "https://localhost:8080/"
        },
        "id": "T9GQ1b4aYLEw",
        "outputId": "daa4e5f1-f3bc-4a79-8fd9-65fa3fa2362a"
      },
      "execution_count": 31,
      "outputs": [
        {
          "output_type": "stream",
          "name": "stdout",
          "text": [
            "Introduzca la cantidad de números de Fibonacci que desea generar: 5\n",
            "Los 5 primeros números de Fibonacci son:\n",
            "0\n",
            "1\n",
            "1\n",
            "2\n",
            "3\n"
          ]
        }
      ]
    },
    {
      "cell_type": "code",
      "source": [
        "import random\n",
        "\n",
        "# Generar un número aleatorio entre 1 y 100\n",
        "numero_objetivo = random.randint(1, 100)\n",
        "\n",
        "# Inicializar el número de intentos\n",
        "intentos = 0\n",
        "\n",
        "# Seguir pidiendo un nuevo intento hasta que el usuario adivine correctamente\n",
        "while True:\n",
        "  # Pedir al usuario que adivine el número\n",
        "  numero_usuario = int(input(\"Adivina el número (entre 1 y 100): \"))\n",
        "\n",
        "  # Incrementar el número de intentos\n",
        "  intentos += 1\n",
        "\n",
        "  # Comprobar si el número del usuario es correcto\n",
        "  if numero_usuario == numero_objetivo:\n",
        "    # Imprimir un mensaje de felicitación y salir del bucle\n",
        "    print(\"¡Felicidades! Adivinaste el número en\", intentos, \"intentos.\")\n",
        "    break\n",
        "\n",
        "  # Dar una pista al usuario si su número es mayor o menor que el número objetivo\n",
        "  elif numero_usuario > numero_objetivo:\n",
        "    print(\"El número que buscas es menor.\")\n",
        "  else:\n",
        "    print(\"El número que buscas es mayor.\")\n",
        ""
      ],
      "metadata": {
        "colab": {
          "base_uri": "https://localhost:8080/"
        },
        "id": "FQtyEGrmYvli",
        "outputId": "51f97f50-8871-471f-f76b-760cb3d36e40"
      },
      "execution_count": 32,
      "outputs": [
        {
          "output_type": "stream",
          "name": "stdout",
          "text": [
            "Adivina el número (entre 1 y 100): 10\n",
            "El número que buscas es mayor.\n",
            "Adivina el número (entre 1 y 100): 50\n",
            "El número que buscas es menor.\n",
            "Adivina el número (entre 1 y 100): 40\n",
            "El número que buscas es mayor.\n",
            "Adivina el número (entre 1 y 100): 45\n",
            "El número que buscas es menor.\n",
            "Adivina el número (entre 1 y 100): 44\n",
            "¡Felicidades! Adivinaste el número en 5 intentos.\n"
          ]
        }
      ]
    },
    {
      "cell_type": "code",
      "source": [
        "def es_primo(numero):\n",
        "  \"\"\"\n",
        "  Esta función comprueba si un número es primo.\n",
        "\n",
        "  Args:\n",
        "      numero: El número a comprobar.\n",
        "\n",
        "  Returns:\n",
        "      True si el número es primo, False en caso contrario.\n",
        "  \"\"\"\n",
        "\n",
        "  if numero <= 1:\n",
        "    return False\n",
        "\n",
        "  for i in range(2, int(numero**0.5) + 1):\n",
        "    if numero % i == 0:\n",
        "      return False\n",
        "\n",
        "  return True\n",
        "\n",
        "# Pedir al usuario el rango de números\n",
        "inicio = int(input(\"¿Desde qué número quieres empezar? \"))\n",
        "fin = int(input(\"¿Hasta qué número quieres llegar? \"))\n",
        "\n",
        "# Mostrar todos los números primos dentro del rango\n",
        "for numero in range(inicio, fin + 1):\n",
        "  if es_primo(numero):\n",
        "    print(numero, end=\" \")\n",
        ""
      ],
      "metadata": {
        "colab": {
          "base_uri": "https://localhost:8080/"
        },
        "id": "PGMEXTXoZJU8",
        "outputId": "931921f8-506d-4bd2-814d-8708c1fb9465"
      },
      "execution_count": 33,
      "outputs": [
        {
          "output_type": "stream",
          "name": "stdout",
          "text": [
            "¿Desde qué número quieres empezar? 5\n",
            "¿Hasta qué número quieres llegar? 11\n",
            "5 7 11 "
          ]
        }
      ]
    },
    {
      "cell_type": "code",
      "source": [
        "def suma(a, b):\n",
        "  \"\"\"\n",
        "  Esta función suma dos números.\n",
        "\n",
        "  Args:\n",
        "      a: El primer número.\n",
        "      b: El segundo número.\n",
        "\n",
        "  Returns:\n",
        "      La suma de los dos números.\n",
        "  \"\"\"\n",
        "\n",
        "  return a + b\n",
        "\n",
        "def resta(a, b):\n",
        "  \"\"\"\n",
        "  Esta función resta dos números.\n",
        "\n",
        "  Args:\n",
        "      a: El primer número.\n",
        "      b: El segundo número.\n",
        "\n",
        "  Returns:\n",
        "      La resta de los dos números.\n",
        "  \"\"\"\n",
        "\n",
        "  return a - b\n",
        "\n",
        "def multiplicacion(a, b):\n",
        "  \"\"\"\n",
        "  Esta función multiplica dos números.\n",
        "\n",
        "  Args:\n",
        "      a: El primer número.\n",
        "      b: El segundo número.\n",
        "\n",
        "  Returns:\n",
        "      El producto de los dos números.\n",
        "  \"\"\"\n",
        "\n",
        "  return a * b\n",
        "\n",
        "def division(a, b):\n",
        "  \"\"\"\n",
        "  Esta función divide dos números.\n",
        "\n",
        "  Args:\n",
        "      a: El primer número.\n",
        "      b: El segundo número.\n",
        "\n",
        "  Returns:\n",
        "      La división de los dos números.\n",
        "  \"\"\"\n",
        "\n",
        "  if b == 0:\n",
        "    raise ValueError(\"No se puede dividir entre cero.\")\n",
        "\n",
        "  return a / b\n",
        "\n",
        "# Pedir al usuario los dos números\n",
        "a = float(input(\"Introduce el primer número: \"))\n",
        "b = float(input(\"Introduce el segundo número: \"))\n",
        "\n",
        "# Mostrar un menú de opciones al usuario\n",
        "print(\"\"\"\n",
        "Elige la operación que quieres realizar:\n",
        "1. Suma\n",
        "2. Resta\n",
        "3. Multiplicación\n",
        "4. División\n",
        "\"\"\")\n",
        "\n",
        "# Leer la opción del usuario\n",
        "opcion = int(input(\"Introduce el número de la operación: \"))\n",
        "\n",
        "# Realizar la operación correspondiente\n",
        "if opcion == 1:\n",
        "  resultado = suma(a, b)\n",
        "elif opcion == 2:\n",
        "  resultado = resta(a, b)\n",
        "elif opcion == 3:\n",
        "  resultado = multiplicacion(a, b)\n",
        "elif opcion == 4:\n",
        "  resultado = division(a, b)\n",
        "else:\n",
        "  print(\"Opción inválida.\")\n",
        "\n",
        "# Imprimir el resultado\n",
        "print(\"El resultado es:\", resultado)\n"
      ],
      "metadata": {
        "colab": {
          "base_uri": "https://localhost:8080/"
        },
        "id": "je6l3dExZai8",
        "outputId": "a6333809-90de-4405-9b4e-600dfaa69777"
      },
      "execution_count": 35,
      "outputs": [
        {
          "output_type": "stream",
          "name": "stdout",
          "text": [
            "Introduce el primer número: 5\n",
            "Introduce el segundo número: 7\n",
            "\n",
            "Elige la operación que quieres realizar:\n",
            "1. Suma\n",
            "2. Resta\n",
            "3. Multiplicación\n",
            "4. División\n",
            "\n",
            "Introduce el número de la operación: 1\n",
            "El resultado es: 12.0\n"
          ]
        }
      ]
    }
  ]
}