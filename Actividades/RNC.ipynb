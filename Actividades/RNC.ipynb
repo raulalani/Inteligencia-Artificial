{
  "nbformat": 4,
  "nbformat_minor": 0,
  "metadata": {
    "colab": {
      "provenance": []
    },
    "kernelspec": {
      "name": "python3",
      "display_name": "Python 3"
    },
    "language_info": {
      "name": "python"
    }
  },
  "cells": [
    {
      "cell_type": "markdown",
      "source": [
        "Actividad 6. Redes Neuronales Raul Cristian Penilla Alanis 201341 N4-N6"
      ],
      "metadata": {
        "id": "ZET4eKUvK3su"
      }
    },
    {
      "cell_type": "code",
      "execution_count": 1,
      "metadata": {
        "colab": {
          "base_uri": "https://localhost:8080/"
        },
        "id": "B0g6RK2KK1ds",
        "outputId": "3615a6f0-2049-4c01-af3b-b1bef0cebf6c"
      },
      "outputs": [
        {
          "output_type": "stream",
          "name": "stdout",
          "text": [
            "Downloading data from https://storage.googleapis.com/tensorflow/tf-keras-datasets/mnist.npz\n",
            "11490434/11490434 [==============================] - 1s 0us/step\n",
            "Epoch 1/5\n",
            "1875/1875 [==============================] - 10s 5ms/step - loss: 0.2617 - accuracy: 0.9253\n",
            "Epoch 2/5\n",
            "1875/1875 [==============================] - 8s 4ms/step - loss: 0.1151 - accuracy: 0.9653\n",
            "Epoch 3/5\n",
            "1875/1875 [==============================] - 6s 3ms/step - loss: 0.0789 - accuracy: 0.9761\n",
            "Epoch 4/5\n",
            "1875/1875 [==============================] - 7s 4ms/step - loss: 0.0597 - accuracy: 0.9814\n",
            "Epoch 5/5\n",
            "1875/1875 [==============================] - 6s 3ms/step - loss: 0.0459 - accuracy: 0.9854\n",
            "313/313 [==============================] - 1s 2ms/step - loss: 0.0812 - accuracy: 0.9747\n",
            "Exactitud del modelo en datos de prueba: 0.9746999740600586\n",
            "1/1 [==============================] - 0s 81ms/step\n",
            "Predicción: 7, Valor real: 7\n",
            "Predicción: 2, Valor real: 2\n",
            "Predicción: 1, Valor real: 1\n",
            "Predicción: 0, Valor real: 0\n",
            "Predicción: 4, Valor real: 4\n"
          ]
        }
      ],
      "source": [
        "import tensorflow as tf\n",
        "from tensorflow.keras.datasets import mnist\n",
        "from tensorflow.keras.models import Sequential\n",
        "from tensorflow.keras.layers import Flatten, Dense\n",
        "\n",
        "# Cargar y dividir los datos en conjuntos de entrenamiento y prueba\n",
        "(train_data, train_labels), (test_data, test_labels) = mnist.load_data()\n",
        "\n",
        "# Preprocesamiento de los datos\n",
        "train_data = train_data / 255.0\n",
        "test_data = test_data / 255.0\n",
        "\n",
        "# Definir la estructura del modelo de red neuronal\n",
        "model = Sequential([\n",
        "    Flatten(input_shape=(28, 28)),  # Capa de aplanado de la imagen\n",
        "    Dense(128, activation='relu'),  # Capa oculta con activación relu\n",
        "    Dense(10, activation='softmax')  # Capa de salida con activación softmax\n",
        "])\n",
        "\n",
        "# Compilar el modelo con función de pérdida, optimizador y métrica\n",
        "model.compile(loss='sparse_categorical_crossentropy', optimizer='adam', metrics=['accuracy'])\n",
        "\n",
        "# Entrenar el modelo con los datos de entrenamiento\n",
        "model.fit(train_data, train_labels, epochs=5)\n",
        "\n",
        "# Evaluar la exactitud del modelo con los datos de prueba\n",
        "test_loss, test_accuracy = model.evaluate(test_data, test_labels)\n",
        "print(f'Exactitud del modelo en datos de prueba: {test_accuracy}')\n",
        "\n",
        "# Realizar 5 predicciones con el conjunto de datos de prueba\n",
        "predictions = model.predict(test_data[:5])\n",
        "for i in range(5):\n",
        "    pred_label = predictions[i].argmax()\n",
        "    true_label = test_labels[i]\n",
        "    print(f'Predicción: {pred_label}, Valor real: {true_label}')\n"
      ]
    }
  ]
}